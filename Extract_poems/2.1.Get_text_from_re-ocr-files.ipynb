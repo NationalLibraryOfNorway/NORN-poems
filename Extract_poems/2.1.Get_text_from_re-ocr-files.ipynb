{
 "cells": [
  {
   "cell_type": "markdown",
   "metadata": {},
   "source": [
    "Import poem texts from reocr files"
   ]
  },
  {
   "cell_type": "code",
   "execution_count": 1,
   "metadata": {},
   "outputs": [],
   "source": [
    "import pathlib\n",
    "import sys\n",
    "import pandas as pd\n",
    "from norn.poems import Poem\n",
    "from norn.alto_tools import get_text\n",
    "import glob\n",
    "from tqdm.notebook import tqdm\n",
    "from bs4 import BeautifulSoup\n",
    "\n",
    "OCR_FILES = pathlib.Path(\"/mnt/md1/new_2023/bok\")\n",
    "\n",
    "NORN_DATA = pathlib.Path(\"/mnt/md1/new_2023/norn\")\n",
    "\n",
    "done = OCR_FILES / \"done\"\n",
    "failed = OCR_FILES / \"failed\"\n",
    "poems = pathlib.Path(\"poems.csv\")\n"
   ]
  },
  {
   "cell_type": "code",
   "execution_count": 2,
   "metadata": {},
   "outputs": [],
   "source": [
    "# Import list of poems\n",
    "df = pd.read_csv(poems)\n",
    "poem_list = df.apply(lambda x: Poem(*x), axis=1).to_list()\n",
    "urns = set([p.urn for p in poem_list]) # get unique URNs, references to books"
   ]
  },
  {
   "cell_type": "code",
   "execution_count": 3,
   "metadata": {},
   "outputs": [],
   "source": [
    "# Get list of files that should be processed\n",
    "done_urn = [x.split(\"/\")[-1]\n",
    " for x in     \n",
    "    glob.glob(str(done / '*'))]\n",
    "\n",
    "failed_urn = [x.split(\"/\")[-1] for x in glob.glob(str(failed / '*'))]"
   ]
  },
  {
   "cell_type": "code",
   "execution_count": 4,
   "metadata": {},
   "outputs": [],
   "source": [
    "urns_in_done = [x for x in urns if x.split(\":\")[-1] in done_urn] # Get the URNs that are in the done folder\n",
    "urns_in_failed = [x for x in urns if x.split(\":\")[-1] in failed_urn] # Get the URNs that are in the failed folder"
   ]
  },
  {
   "cell_type": "code",
   "execution_count": 16,
   "metadata": {},
   "outputs": [
    {
     "data": {
      "text/plain": [
       "(71, 67, 4, 71)"
      ]
     },
     "execution_count": 16,
     "metadata": {},
     "output_type": "execute_result"
    }
   ],
   "source": [
    "len(urns), len(urns_in_done), len(urns_in_failed), len(urns_in_done) + len(urns_in_failed) #  Compare the number of URNs in the list of poems and the number of URNs in the done and failed folders"
   ]
  },
  {
   "cell_type": "code",
   "execution_count": 8,
   "metadata": {},
   "outputs": [
    {
     "data": {
      "text/plain": [
       "['URN:NBN:no-nb_digibok_2013080706153',\n",
       " 'URN:NBN:no-nb_digibok_2014041406092',\n",
       " 'URN:NBN:no-nb_digibok_2013041105048',\n",
       " 'URN:NBN:no-nb_digibok_2013060306081']"
      ]
     },
     "execution_count": 8,
     "metadata": {},
     "output_type": "execute_result"
    }
   ],
   "source": [
    "urns_in_failed"
   ]
  },
  {
   "cell_type": "code",
   "execution_count": 24,
   "metadata": {},
   "outputs": [
    {
     "ename": "NameError",
     "evalue": "name 'nan' is not defined",
     "output_type": "error",
     "traceback": [
      "\u001b[0;31m---------------------------------------------------------------------------\u001b[0m",
      "\u001b[0;31mNameError\u001b[0m                                 Traceback (most recent call last)",
      "Cell \u001b[0;32mIn[24], line 1\u001b[0m\n\u001b[0;32m----> 1\u001b[0m \u001b[38;5;28mtype\u001b[39m(\u001b[43mnan\u001b[49m)\n",
      "\u001b[0;31mNameError\u001b[0m: name 'nan' is not defined"
     ]
    }
   ],
   "source": [
    "type(nan)"
   ]
  },
  {
   "cell_type": "code",
   "execution_count": 25,
   "metadata": {},
   "outputs": [
    {
     "name": "stdout",
     "output_type": "stream",
     "text": [
      "\u001b[0;31mType:\u001b[0m        float\n",
      "\u001b[0;31mString form:\u001b[0m nan\n",
      "\u001b[0;31mDocstring:\u001b[0m   Convert a string or number to a floating point number, if possible."
     ]
    }
   ],
   "source": [
    "poem_list[1].pages??"
   ]
  },
  {
   "cell_type": "code",
   "execution_count": 22,
   "metadata": {},
   "outputs": [
    {
     "data": {
      "text/plain": [
       "float"
      ]
     },
     "execution_count": 22,
     "metadata": {},
     "output_type": "execute_result"
    }
   ],
   "source": [
    "type(poem_list[1].pages)"
   ]
  },
  {
   "cell_type": "code",
   "execution_count": 26,
   "metadata": {},
   "outputs": [
    {
     "data": {
      "application/vnd.jupyter.widget-view+json": {
       "model_id": "958bdf21fdf64d47945fa8abbb01bf8d",
       "version_major": 2,
       "version_minor": 0
      },
      "text/plain": [
       "  0%|          | 0/2940 [00:00<?, ?it/s]"
      ]
     },
     "metadata": {},
     "output_type": "display_data"
    }
   ],
   "source": [
    "from bs4 import BeautifulSoup\n",
    "\n",
    "def get_alto_path(urn, page):\n",
    "    \n",
    "    \n",
    "    filename = urn.split(\":\")[-1]\n",
    "    \n",
    "    if urn in urns_in_failed:\n",
    "        subfolder = \"failed\"\n",
    "    elif urn in urns_in_done:\n",
    "        subfolder = \"done\"    \n",
    "    else:\n",
    "        raise ValueError(\"URN {} not in done or failed\".format(urn))\n",
    "    \n",
    "    path = OCR_FILES / subfolder / filename / \"ocr\"\n",
    "    page = str(page).zfill(4)\n",
    "    alto_path = path / f\"{filename}_{page}.xml\"\n",
    "    return alto_path\n",
    "\n",
    "def get_alto(urn, page):\n",
    "    alto_path = get_alto_path(urn, page)\n",
    "    with open(alto_path) as f:\n",
    "        soup = BeautifulSoup(f, \"lxml-xml\")\n",
    "    return soup\n",
    "\n",
    "\n",
    "alto_list = []\n",
    "errors = []\n",
    "for poem in tqdm(poem_list):\n",
    "    if poem.urn in errors:\n",
    "        continue\n",
    "    \n",
    "    for r in range(poem.page_start-1, poem.page_end):\n",
    "        try: \n",
    "            alto = get_alto(poem.urn, r)\n",
    "            \n",
    "            if isinstance(poem.pages, float):\n",
    "                poem.pages = []\n",
    "            \n",
    "            poem.pages.append(get_text(alto))\n",
    "            \n",
    "        except Exception as e:\n",
    "            print(\"Error with\", poem.urn, poem.title, r, e)\n",
    "            errors.append(poem.urn)\n",
    "            break\n",
    "            \n",
    "        # alto_list.append(alto)"
   ]
  },
  {
   "cell_type": "code",
   "execution_count": 29,
   "metadata": {},
   "outputs": [],
   "source": [
    "from typing import Iterable\n",
    "\n",
    "def show_start_page(poem: Poem) -> str:    \n",
    "    return f\"https://urn.nb.no/{poem.urn}?searchText=&page={poem.page_start}\"\n",
    "\n",
    "def to_txt(poem: Poem) -> str:\n",
    "    return \"\\n\".join(poem.pages)\n",
    "\n",
    "def collection_to_txt(poems: Iterable[Poem], path: str):  \n",
    "    \n",
    "    for poem in poems:\n",
    "        poem_path = pathlib.Path(path) / poem.urn\n",
    "        poem_path.mkdir(exist_ok=True, parents=True)  \n",
    "        with open(poem_path / f\"{poem.dhlabid}.txt\", \"w\") as f:\n",
    "            for page in poem.pages:\n",
    "                f.write(page)\n",
    "                f.write(\"\\n\\n\")   \n",
    "    \n",
    "    "
   ]
  },
  {
   "cell_type": "markdown",
   "metadata": {},
   "source": [
    "## Export poems"
   ]
  },
  {
   "cell_type": "code",
   "execution_count": 30,
   "metadata": {},
   "outputs": [],
   "source": [
    "# collection_to_txt(poem_list, NORN_DATA / \"reocr_poems2\") # Write the poems to disk"
   ]
  },
  {
   "cell_type": "code",
   "execution_count": 10,
   "metadata": {},
   "outputs": [
    {
     "data": {
      "text/plain": [
       "['URN:NBN:no-nb_digibok_2013080706153',\n",
       " 'URN:NBN:no-nb_digibok_2014041406092',\n",
       " 'URN:NBN:no-nb_digibok_2013041105048',\n",
       " 'URN:NBN:no-nb_digibok_2013060306081']"
      ]
     },
     "execution_count": 10,
     "metadata": {},
     "output_type": "execute_result"
    }
   ],
   "source": [
    "urns_in_failed"
   ]
  },
  {
   "cell_type": "markdown",
   "metadata": {},
   "source": [
    "# Compare old and new results"
   ]
  },
  {
   "cell_type": "code",
   "execution_count": 11,
   "metadata": {},
   "outputs": [
    {
     "data": {
      "text/plain": [
       "['URN:NBN:no-nb_digibok_2013080706153',\n",
       " 'URN:NBN:no-nb_digibok_2014041406092',\n",
       " 'URN:NBN:no-nb_digibok_2013041105048',\n",
       " 'URN:NBN:no-nb_digibok_2013060306081']"
      ]
     },
     "execution_count": 11,
     "metadata": {},
     "output_type": "execute_result"
    }
   ],
   "source": [
    "urns_in_failed"
   ]
  },
  {
   "cell_type": "code",
   "execution_count": 12,
   "metadata": {},
   "outputs": [],
   "source": [
    "new_files = NORN_DATA / \"reocr_poems\"\n",
    "old_files = NORN_DATA / \"texts_joined\"\n"
   ]
  },
  {
   "cell_type": "code",
   "execution_count": 13,
   "metadata": {},
   "outputs": [],
   "source": [
    "poem_dct = {}\n",
    "\n",
    "for poem in poem_list:\n",
    "    if poem.urn not in poem_dct:\n",
    "        poem_dct[poem.urn] = {}\n",
    "    poem_dct[poem.urn][poem.title] = poem"
   ]
  },
  {
   "cell_type": "code",
   "execution_count": 14,
   "metadata": {},
   "outputs": [],
   "source": [
    "target_poems = [poem for poem in poem_list if poem.urn in urns_in_failed]\n",
    "\n",
    "\n",
    "urn = urns_in_failed[0]\n",
    "\n",
    "def get_list():\n",
    "    return list(poem_dct[urn].keys())\n",
    "\n",
    "# def get_old_and_new_path(urn: str, poem_i: int = 0):\n",
    "    \n",
    "#     old_file_path = old_files / urn / f'{get_list()[poem_i]}.txt'\n",
    "#     new_file_path = new_files / urn / f\"{get_list()[poem_i]}.txt\"\n",
    "    \n",
    "#     return old_file_path, new_file_path\n",
    "    \n",
    "\n",
    "def get_old_and_new_path(poem: Poem):\n",
    "    \n",
    "    old_file_path = old_files / poem.urn / f'{poem.title}.txt'\n",
    "    new_file_path = new_files / poem.urn / f'{poem.title}.txt'\n",
    "    \n",
    "    return old_file_path, new_file_path\n",
    "    \n",
    "\n",
    "    "
   ]
  },
  {
   "cell_type": "code",
   "execution_count": 15,
   "metadata": {},
   "outputs": [
    {
     "data": {
      "text/plain": [
       "'https://urn.nb.no/URN:NBN:no-nb_digibok_2014041406092?searchText=&page=36'"
      ]
     },
     "execution_count": 15,
     "metadata": {},
     "output_type": "execute_result"
    }
   ],
   "source": [
    "import subprocess\n",
    "\n",
    "poem = target_poems[70]\n",
    "\n",
    "old, new = get_old_and_new_path(poem)\n",
    "\n",
    "subprocess.run([\"code\" , old])\n",
    "subprocess.run([\"code\" ,\"--add\", new, \"--goto\"])\n",
    "\n",
    "\n",
    "show_start_page(poem)"
   ]
  }
 ],
 "metadata": {
  "kernelspec": {
   "display_name": "norn-bHVydaHb-py3.10",
   "language": "python",
   "name": "python3"
  },
  "language_info": {
   "codemirror_mode": {
    "name": "ipython",
    "version": 3
   },
   "file_extension": ".py",
   "mimetype": "text/x-python",
   "name": "python",
   "nbconvert_exporter": "python",
   "pygments_lexer": "ipython3",
   "version": "3.10.12"
  }
 },
 "nbformat": 4,
 "nbformat_minor": 2
}
