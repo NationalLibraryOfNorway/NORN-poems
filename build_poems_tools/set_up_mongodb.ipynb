{
 "cells": [
  {
   "cell_type": "code",
   "execution_count": 29,
   "metadata": {},
   "outputs": [],
   "source": [
    "import pymongo\n",
    "from pathlib import Path\n",
    "from dataclasses import dataclass\n",
    "import os\n",
    "from bson.objectid import ObjectId\n",
    "\n",
    "poems = Path('/mnt/md1/new_2023/norn/reocr_poems/')\n",
    "\n",
    "client = pymongo.MongoClient()\n",
    "\n",
    "collection = client['norn']['poems']"
   ]
  },
  {
   "cell_type": "code",
   "execution_count": 6,
   "metadata": {},
   "outputs": [],
   "source": [
    "@dataclass\n",
    "class PoemText:\n",
    "    urn: str\n",
    "    title: str\n",
    "    text: str   \n"
   ]
  },
  {
   "cell_type": "code",
   "execution_count": 19,
   "metadata": {},
   "outputs": [],
   "source": [
    "# poems_list = []\n",
    "\n",
    "for path, _, file in os.walk(poems):\n",
    "    #print(path, file)\n",
    "    if file:\n",
    "        for f in file:\n",
    "            with open(path + '/' + f, 'r') as poem:\n",
    "                text = poem.read()\n",
    "                urn = path.split('/')[-1]\n",
    "                title = f.split('.')[0]\n",
    "                # = text.split('\\n')[0]\n",
    "                poem_text = PoemText(urn, title, text)\n",
    "                # poems_list.append(poem_text)                \n",
    "                client.norn.poems.insert_one(poem_text.__dict__)\n",
    "    "
   ]
  },
  {
   "cell_type": "markdown",
   "metadata": {},
   "source": [
    "## Add metadata from sheet"
   ]
  },
  {
   "cell_type": "markdown",
   "metadata": {},
   "source": []
  }
 ],
 "metadata": {
  "kernelspec": {
   "display_name": "norn-bHVydaHb-py3.10",
   "language": "python",
   "name": "python3"
  },
  "language_info": {
   "codemirror_mode": {
    "name": "ipython",
    "version": 3
   },
   "file_extension": ".py",
   "mimetype": "text/x-python",
   "name": "python",
   "nbconvert_exporter": "python",
   "pygments_lexer": "ipython3",
   "version": "3.10.12"
  }
 },
 "nbformat": 4,
 "nbformat_minor": 2
}
